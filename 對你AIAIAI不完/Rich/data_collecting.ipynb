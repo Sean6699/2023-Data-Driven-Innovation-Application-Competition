{
 "cells": [
  {
   "cell_type": "code",
   "execution_count": 50,
   "metadata": {},
   "outputs": [],
   "source": [
    "from selenium  import webdriver\n",
    "from selenium.webdriver.common.keys import Keys\n",
    "from selenium.webdriver.common.by import By\n",
    "import time\n",
    "\n",
    "driver = webdriver.Chrome()\n",
    "\n",
    "driver.get('https://www.google.com/maps/@25.0,121.50,11.9z')\n",
    "\n",
    "search = driver.find_element(By.NAME, 'q')\n",
    "\n",
    "search.send_keys('餐廳')\n",
    "\n",
    "search.send_keys(Keys.RETURN)\n",
    "time.sleep(15)"
   ]
  },
  {
   "cell_type": "code",
   "execution_count": 51,
   "metadata": {},
   "outputs": [],
   "source": [
    "shop_name = driver.find_elements(By.CLASS_NAME, 'hfpxzc')\n",
    "# stars = driver.find_elements(By.CLASS_NAME, '')\n",
    "# address = driver.find_elements(By.CLASS_NAME, '')\n",
    "# business_hours = driver.find_elements(By.CLASS_NAME, '')\n",
    "time.sleep(3)\n"
   ]
  },
  {
   "cell_type": "code",
   "execution_count": 52,
   "metadata": {},
   "outputs": [],
   "source": [
    "# for shop_name in shop_name:\n",
    "#     print(shop_name.text)"
   ]
  }
 ],
 "metadata": {
  "kernelspec": {
   "display_name": "Python 3",
   "language": "python",
   "name": "python3"
  },
  "language_info": {
   "codemirror_mode": {
    "name": "ipython",
    "version": 3
   },
   "file_extension": ".py",
   "mimetype": "text/x-python",
   "name": "python",
   "nbconvert_exporter": "python",
   "pygments_lexer": "ipython3",
   "version": "3.9.6"
  },
  "orig_nbformat": 4
 },
 "nbformat": 4,
 "nbformat_minor": 2
}
